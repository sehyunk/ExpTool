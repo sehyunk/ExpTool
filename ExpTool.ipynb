{
 "cells": [
  {
   "cell_type": "code",
   "execution_count": 11,
   "metadata": {},
   "outputs": [],
   "source": [
    "import numpy as np\n",
    "from scipy.stats import norm \n",
    "\n",
    "class ExpTool:\n",
    "    def __init__(self, cl = 0.95, p = 0.5, moe = 0.01):\n",
    "        self.cl = cl \n",
    "        self.p = p \n",
    "        self.moe = moe \n",
    "        self.z = norm.ppf(1-(1-cl)/2)\n",
    "        self.n = np.ceil(self.z**2*(self.p*(1-self.p))/self.moe**2)\n",
    "        \n",
    "        print(f'''\n",
    "+-------------------------------+    \n",
    "|  Confidence Level:\\t{self.cl*100}%\\t|\n",
    "|   Margin of Error:\\t{self.moe*100}%\\t|\n",
    "|           z-score:\\t{round(self.z,2)}\\t|\n",
    "|                 p:\\t{self.p}\\t|\n",
    "|                 n:\\t{self.n}\\t|\n",
    "+-------------------------------+\n",
    "''')\n",
    "        \n"
   ]
  },
  {
   "cell_type": "code",
   "execution_count": 12,
   "metadata": {},
   "outputs": [
    {
     "name": "stdout",
     "output_type": "stream",
     "text": [
      "\n",
      "+-------------------------------+    \n",
      "|  Confidence Level:\t95.0%\t|\n",
      "|   Margin of Error:\t1.0%\t|\n",
      "|           z-score:\t1.96\t|\n",
      "|                 p:\t0.3\t|\n",
      "|                 n:\t8068.0\t|\n",
      "+-------------------------------+\n",
      "\n"
     ]
    }
   ],
   "source": [
    "exp = ExpTool(p = 0.3)"
   ]
  },
  {
   "cell_type": "code",
   "execution_count": 13,
   "metadata": {},
   "outputs": [
    {
     "data": {
      "text/plain": [
       "0.95"
      ]
     },
     "execution_count": 13,
     "metadata": {},
     "output_type": "execute_result"
    }
   ],
   "source": [
    "exp.cl"
   ]
  },
  {
   "cell_type": "code",
   "execution_count": 14,
   "metadata": {
    "scrolled": true
   },
   "outputs": [
    {
     "data": {
      "text/plain": [
       "8068.0"
      ]
     },
     "execution_count": 14,
     "metadata": {},
     "output_type": "execute_result"
    }
   ],
   "source": [
    "exp.n"
   ]
  },
  {
   "cell_type": "code",
   "execution_count": null,
   "metadata": {},
   "outputs": [],
   "source": []
  },
  {
   "cell_type": "code",
   "execution_count": null,
   "metadata": {},
   "outputs": [],
   "source": []
  }
 ],
 "metadata": {
  "kernelspec": {
   "display_name": "Python 3",
   "language": "python",
   "name": "python3"
  },
  "language_info": {
   "codemirror_mode": {
    "name": "ipython",
    "version": 3
   },
   "file_extension": ".py",
   "mimetype": "text/x-python",
   "name": "python",
   "nbconvert_exporter": "python",
   "pygments_lexer": "ipython3",
   "version": "3.9.5"
  }
 },
 "nbformat": 4,
 "nbformat_minor": 4
}
